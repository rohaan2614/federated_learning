{
  "cells": [
    {
      "cell_type": "code",
      "execution_count": 1,
      "metadata": {},
      "outputs": [
        {
          "data": {
            "text/plain": [
              "'/Users/rohaan/Desktop/storage/RIT/federated_learning_lab/federated_learning'"
            ]
          },
          "execution_count": 1,
          "metadata": {},
          "output_type": "execute_result"
        }
      ],
      "source": [
        "import os\n",
        "os.chdir('..')\n",
        "os.getcwd()"
      ]
    },
    {
      "cell_type": "code",
      "execution_count": 2,
      "metadata": {
        "id": "KRVG5spLX-G6"
      },
      "outputs": [
        {
          "data": {
            "text/plain": [
              "device(type='cpu')"
            ]
          },
          "execution_count": 2,
          "metadata": {},
          "output_type": "execute_result"
        }
      ],
      "source": [
        "import torch\n",
        "import torch.nn as nn\n",
        "import torch.optim as optim\n",
        "from torchvision import datasets, transforms\n",
        "from torch.utils.data import DataLoader\n",
        "import json\n",
        "import numpy as np\n",
        "import random\n",
        "\n",
        "# Set device (GPU if available)\n",
        "device = torch.device('cuda' if torch.cuda.is_available() else 'cpu')\n",
        "device"
      ]
    },
    {
      "cell_type": "code",
      "execution_count": 3,
      "metadata": {},
      "outputs": [],
      "source": [
        "def set_seed(seed):\n",
        "    torch.manual_seed(seed)           # For CPU\n",
        "    torch.cuda.manual_seed(seed)      # For CUDA (if using GPU)\n",
        "    torch.cuda.manual_seed_all(seed)  # For multi-GPU\n",
        "    np.random.seed(seed)              # For NumPy\n",
        "    random.seed(seed)                 # For Python's built-in random\n",
        "    torch.backends.cudnn.deterministic = True  # Ensure deterministic behavior\n",
        "    torch.backends.cudnn.benchmark = False     # Turn off optimization for reproducibility"
      ]
    },
    {
      "cell_type": "code",
      "execution_count": 4,
      "metadata": {},
      "outputs": [
        {
          "name": "stdout",
          "output_type": "stream",
          "text": [
            "Datasets:\n",
            "\t-> TRAIN: available\n",
            "\t-> TEST: available\n"
          ]
        }
      ],
      "source": [
        "transform = transforms.Compose([\n",
        "    transforms.Resize((32, 32)),  # Resize to 32x32 as required by LeNet-5\n",
        "    transforms.ToTensor(),\n",
        "    transforms.Normalize((0.1307,), (0.3081,))\n",
        "])\n",
        "\n",
        "train_dataset = datasets.MNIST(root='./data', train=True, download=True, transform=transform)\n",
        "test_dataset = datasets.MNIST(root='./data', train=False, download=True, transform=transform)\n",
        "print(f\"Datasets:\\n\\t-> TRAIN: {'available' if train_dataset else 'N/A'}\\n\\t-> TEST: {'available' if train_dataset else 'N/A'}\")"
      ]
    },
    {
      "cell_type": "code",
      "execution_count": 5,
      "metadata": {},
      "outputs": [
        {
          "name": "stdout",
          "output_type": "stream",
          "text": [
            "Datasets:\n",
            "\t-> TRAIN: 60000 samples\n",
            "\t-> TEST: 10000 samples\n"
          ]
        }
      ],
      "source": [
        "train_loader = DataLoader(dataset=train_dataset, batch_size=64, shuffle=True)\n",
        "test_loader = DataLoader(dataset=test_dataset, batch_size=1000, shuffle=False)\n",
        "\n",
        "print(f\"Datasets:\\n\\t-> TRAIN: {len(train_loader.dataset)} samples\\n\\t-> TEST: {len(test_loader.dataset)} samples\")"
      ]
    },
    {
      "cell_type": "code",
      "execution_count": 6,
      "metadata": {},
      "outputs": [],
      "source": [
        "class LeNet5(nn.Module):\n",
        "    def __init__(self):\n",
        "        super(LeNet5, self).__init__()\n",
        "        # kernel_size aka filter size\n",
        "        # out_channels aka number of filters\n",
        "        self.conv1 = nn.Conv2d(in_channels=1, out_channels=6, kernel_size=5, stride=1)\n",
        "        self.conv2 = nn.Conv2d(in_channels=6, out_channels=16, kernel_size=5, stride=1)\n",
        "        self.conv3 = nn.Conv2d(in_channels=16, out_channels=120, kernel_size=5, stride=1)\n",
        "        self.fc1 = nn.Linear(in_features=120, out_features=84)\n",
        "        self.fc2 = nn.Linear(in_features=84, out_features=10)\n",
        "\n",
        "    def forward(self, x):\n",
        "        # layer 1\n",
        "        x = self.conv1(x)\n",
        "        x = torch.tanh(x) \n",
        "        # layer 2\n",
        "        x = nn.functional.avg_pool2d(input=x, kernel_size=2, stride=2)\n",
        "        x = torch.tanh(x) \n",
        "        # layer 3\n",
        "        x = self.conv2(x)\n",
        "        x = torch.tanh(x) \n",
        "        # layer 4\n",
        "        x = nn.functional.avg_pool2d(input=x, kernel_size=2, stride=2)\n",
        "        x = torch.tanh(x) \n",
        "        # layer 5\n",
        "        x = self.conv3(x)\n",
        "        x = torch.tanh(x) \n",
        "        # layer 6\n",
        "        x = torch.flatten(x, start_dim=1)\n",
        "        x = self.fc1(x)\n",
        "        x = torch.tanh(x) \n",
        "        # output layer\n",
        "        x = self.fc2(x)\n",
        "        # x = nn.functional.softmax(x, dim=1)  # remove softmax if using crossEntropy since it applies the softmax function too\n",
        "    \n",
        "        return x"
      ]
    },
    {
      "cell_type": "code",
      "execution_count": 7,
      "metadata": {
        "colab": {
          "base_uri": "https://localhost:8080/"
        },
        "id": "qQWXppI8c3vL",
        "outputId": "9dff8dbe-ccd2-4fe8-a2a8-9fa4d6a9987d"
      },
      "outputs": [],
      "source": [
        "def train(model, device, train_loader, optimizer, criterion, epoch, track_weights=False):\n",
        "    model.train()\n",
        "    train_loss = 0\n",
        "    \n",
        "    w_t = {name: weights.clone().detach().cpu() for name, weights in model.state_dict().items()}\n",
        "    for batch_idx, (data, target) in enumerate(train_loader):\n",
        "        data, target = data.to(device), target.to(device)\n",
        "        optimizer.zero_grad()\n",
        "        output = model(data)\n",
        "        loss = criterion(output, target)\n",
        "        loss.backward()\n",
        "        optimizer.step()\n",
        "\n",
        "        train_loss += loss.item()\n",
        "        \n",
        "        if batch_idx % 100 == 0:\n",
        "            print(f'Train Epoch: {epoch} [{batch_idx * len(data)}/{len(train_loader.dataset)}]\\tLoss: {loss.item():.6f}')\n",
        "\n",
        "    avg_train_loss = train_loss / len(train_loader.dataset)\n",
        "    \n",
        "    if track_weights:\n",
        "        # Initialize to store the previous weights\n",
        "        w_t_plus_1 = {name: weights.clone().detach().cpu() for name, weights in model.state_dict().items()}\n",
        "        weight_updates = {\n",
        "            name: (w_t[name] - w_t_plus_1[name]).tolist() \n",
        "            for name in w_t_plus_1\n",
        "        }\n",
        "        with open(f'save/LeNet5/updates_epoch_{epoch}.json', 'w') as json_file:\n",
        "            json.dump(weight_updates, json_file)\n",
        "    \n",
        "    return avg_train_loss"
      ]
    },
    {
      "cell_type": "code",
      "execution_count": 8,
      "metadata": {},
      "outputs": [],
      "source": [
        "def initialize_model(seed=42):\n",
        "    # Set the seed for reproducible results\n",
        "    set_seed(seed)\n",
        "    model = LeNet5()\n",
        "    return model"
      ]
    },
    {
      "cell_type": "code",
      "execution_count": 9,
      "metadata": {},
      "outputs": [],
      "source": [
        "model = initialize_model(seed=1829).to(device)\n",
        "criterion = nn.CrossEntropyLoss()\n",
        "optimizer = optim.Adam(model.parameters(), lr=0.01)"
      ]
    },
    {
      "cell_type": "code",
      "execution_count": 10,
      "metadata": {
        "colab": {
          "base_uri": "https://localhost:8080/"
        },
        "id": "C6nD9nuLc4A3",
        "outputId": "39475260-144c-4f3b-d98a-6894043914e0"
      },
      "outputs": [],
      "source": [
        "def test(model, device, test_loader):\n",
        "    model.eval()\n",
        "    test_loss = 0\n",
        "    correct = 0\n",
        "    with torch.no_grad():\n",
        "        for data, target in test_loader:\n",
        "            data, target = data.to(device), target.to(device)\n",
        "            output = model(data)\n",
        "            test_loss += criterion(output, target).item()  # Sum up batch loss\n",
        "            pred = output.argmax(dim=1, keepdim=True)  # Get the index of the max log-probability\n",
        "            correct += pred.eq(target.view_as(pred)).sum().item()\n",
        "\n",
        "    avg_test_loss = test_loss / len(test_loader.dataset)\n",
        "    accuracy = 100. * correct / len(test_loader.dataset)\n",
        "    print(f'\\nTest set: Average loss: {avg_test_loss:.4f}, Accuracy: {correct}/{len(test_loader.dataset)} ({accuracy:.0f}%)\\n')\n",
        "\n",
        "    return avg_test_loss, accuracy"
      ]
    },
    {
      "cell_type": "code",
      "execution_count": 11,
      "metadata": {},
      "outputs": [
        {
          "name": "stdout",
          "output_type": "stream",
          "text": [
            "Train Epoch: 1 [0/60000]\tLoss: 2.306540\n",
            "Train Epoch: 1 [6400/60000]\tLoss: 0.202203\n",
            "Train Epoch: 1 [12800/60000]\tLoss: 0.471449\n",
            "Train Epoch: 1 [19200/60000]\tLoss: 0.070377\n",
            "Train Epoch: 1 [25600/60000]\tLoss: 0.287195\n",
            "Train Epoch: 1 [32000/60000]\tLoss: 0.180319\n",
            "Train Epoch: 1 [38400/60000]\tLoss: 0.106414\n",
            "Train Epoch: 1 [44800/60000]\tLoss: 0.342011\n",
            "Train Epoch: 1 [51200/60000]\tLoss: 0.484629\n",
            "Train Epoch: 1 [57600/60000]\tLoss: 0.438163\n",
            "\n",
            "Test set: Average loss: 0.0001, Accuracy: 9625/10000 (96%)\n",
            "\n",
            "Train Epoch: 2 [0/60000]\tLoss: 0.097906\n",
            "Train Epoch: 2 [6400/60000]\tLoss: 0.079396\n",
            "Train Epoch: 2 [12800/60000]\tLoss: 0.186872\n",
            "Train Epoch: 2 [19200/60000]\tLoss: 0.071210\n",
            "Train Epoch: 2 [25600/60000]\tLoss: 0.032950\n",
            "Train Epoch: 2 [32000/60000]\tLoss: 0.166382\n",
            "Train Epoch: 2 [38400/60000]\tLoss: 0.008771\n",
            "Train Epoch: 2 [44800/60000]\tLoss: 0.080362\n",
            "Train Epoch: 2 [51200/60000]\tLoss: 0.059575\n",
            "Train Epoch: 2 [57600/60000]\tLoss: 0.108272\n",
            "\n",
            "Test set: Average loss: 0.0001, Accuracy: 9639/10000 (96%)\n",
            "\n",
            "Train Epoch: 3 [0/60000]\tLoss: 0.159802\n",
            "Train Epoch: 3 [6400/60000]\tLoss: 0.101520\n",
            "Train Epoch: 3 [12800/60000]\tLoss: 0.133720\n",
            "Train Epoch: 3 [19200/60000]\tLoss: 0.071840\n",
            "Train Epoch: 3 [25600/60000]\tLoss: 0.242673\n",
            "Train Epoch: 3 [32000/60000]\tLoss: 0.102342\n",
            "Train Epoch: 3 [38400/60000]\tLoss: 0.255317\n",
            "Train Epoch: 3 [44800/60000]\tLoss: 0.178171\n",
            "Train Epoch: 3 [51200/60000]\tLoss: 0.034636\n",
            "Train Epoch: 3 [57600/60000]\tLoss: 0.184970\n",
            "\n",
            "Test set: Average loss: 0.0001, Accuracy: 9657/10000 (97%)\n",
            "\n",
            "Train Epoch: 4 [0/60000]\tLoss: 0.104221\n",
            "Train Epoch: 4 [6400/60000]\tLoss: 0.097648\n",
            "Train Epoch: 4 [12800/60000]\tLoss: 0.080404\n",
            "Train Epoch: 4 [19200/60000]\tLoss: 0.205215\n",
            "Train Epoch: 4 [25600/60000]\tLoss: 0.016091\n",
            "Train Epoch: 4 [32000/60000]\tLoss: 0.053761\n",
            "Train Epoch: 4 [38400/60000]\tLoss: 0.042950\n",
            "Train Epoch: 4 [44800/60000]\tLoss: 0.085435\n",
            "Train Epoch: 4 [51200/60000]\tLoss: 0.042826\n",
            "Train Epoch: 4 [57600/60000]\tLoss: 0.035115\n",
            "\n",
            "Test set: Average loss: 0.0001, Accuracy: 9716/10000 (97%)\n",
            "\n",
            "Train Epoch: 5 [0/60000]\tLoss: 0.188380\n",
            "Train Epoch: 5 [6400/60000]\tLoss: 0.149724\n",
            "Train Epoch: 5 [12800/60000]\tLoss: 0.073364\n",
            "Train Epoch: 5 [19200/60000]\tLoss: 0.127348\n",
            "Train Epoch: 5 [25600/60000]\tLoss: 0.124788\n",
            "Train Epoch: 5 [32000/60000]\tLoss: 0.005425\n",
            "Train Epoch: 5 [38400/60000]\tLoss: 0.087643\n",
            "Train Epoch: 5 [44800/60000]\tLoss: 0.311334\n",
            "Train Epoch: 5 [51200/60000]\tLoss: 0.176192\n",
            "Train Epoch: 5 [57600/60000]\tLoss: 0.258522\n",
            "\n",
            "Test set: Average loss: 0.0001, Accuracy: 9643/10000 (96%)\n",
            "\n"
          ]
        }
      ],
      "source": [
        "num_epochs = 5\n",
        "\n",
        "train_losses = []\n",
        "test_losses = []\n",
        "accuracies = []\n",
        "\n",
        "for epoch in range(1, 1 + num_epochs):\n",
        "    avg_train_loss = train(model, device, train_loader, optimizer, criterion, epoch, track_weights=True)\n",
        "    avg_test_loss, accuracy = test(model, device, test_loader)\n",
        "    \n",
        "    train_losses.append(avg_train_loss)\n",
        "    test_losses.append(avg_test_loss)\n",
        "    accuracies.append(accuracy)"
      ]
    },
    {
      "cell_type": "code",
      "execution_count": 12,
      "metadata": {},
      "outputs": [
        {
          "data": {
            "image/png": "[encoded data removed]",
            "text/plain": [
              "<Figure size 1200x500 with 2 Axes>"
            ]
          },
          "metadata": {},
          "output_type": "display_data"
        }
      ],
      "source": [
        "import matplotlib.pyplot as plt\n",
        "\n",
        "plt.figure(figsize=(12, 5))\n",
        "\n",
        "# Plot training and test loss\n",
        "plt.subplot(1, 2, 1)\n",
        "plt.plot(train_losses, label='Train Loss')\n",
        "plt.plot(test_losses, label='Test Loss')\n",
        "plt.xlabel('Epoch')\n",
        "plt.ylabel('Loss')\n",
        "plt.title('Loss over Epochs')\n",
        "plt.legend()\n",
        "\n",
        "# Plot accuracy\n",
        "plt.subplot(1, 2, 2)\n",
        "plt.plot(accuracies, label='Accuracy')\n",
        "plt.xlabel('Epoch')\n",
        "plt.ylabel('Accuracy (%)')\n",
        "plt.title('Accuracy over Epochs')\n",
        "plt.legend()\n",
        "\n",
        "plt.tight_layout()\n",
        "plt.show()"
      ]
    }
  ],
  "metadata": {
    "colab": {
      "provenance": []
    },
    "kernelspec": {
      "display_name": "Python poetry_kernel",
      "language": "python",
      "name": "poetry_kernel"
    },
    "language_info": {
      "codemirror_mode": {
        "name": "ipython",
        "version": 3
      },
      "file_extension": ".py",
      "mimetype": "text/x-python",
      "name": "python",
      "nbconvert_exporter": "python",
      "pygments_lexer": "ipython3",
      "version": "3.11.9"
    }
  },
  "nbformat": 4,
  "nbformat_minor": 0
}
